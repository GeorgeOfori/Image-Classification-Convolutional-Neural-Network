{
 "cells": [
  {
   "cell_type": "code",
   "execution_count": 1,
   "id": "4ce2f51c",
   "metadata": {},
   "outputs": [],
   "source": [
    "#import the libraries\n",
    "\n",
    "import numpy as np\n",
    "import matplotlib.pyplot as plt\n",
    "import tensorflow as tf"
   ]
  },
  {
   "cell_type": "code",
   "execution_count": 2,
   "id": "6f09811b",
   "metadata": {},
   "outputs": [
    {
     "name": "stdout",
     "output_type": "stream",
     "text": [
      "(60000, 28, 28) (60000,)\n",
      "(10000, 28, 28) (10000,)\n"
     ]
    }
   ],
   "source": [
    "#split the dataset into train set and test set\n",
    "\n",
    "(x_train, y_train), (x_test, y_test) = tf.keras.datasets.mnist.load_data()\n",
    "print(x_train.shape, y_train.shape)\n",
    "print(x_test.shape, y_test.shape)"
   ]
  },
  {
   "cell_type": "code",
   "execution_count": 3,
   "id": "f91fb2fe",
   "metadata": {},
   "outputs": [],
   "source": [
    "#normalise the dataset\n",
    "x_train = x_train/255\n",
    "x_test = x_test/255"
   ]
  },
  {
   "cell_type": "code",
   "execution_count": 4,
   "id": "275d6f0d",
   "metadata": {},
   "outputs": [
    {
     "name": "stdout",
     "output_type": "stream",
     "text": [
      "(60000, 28, 28)\n"
     ]
    }
   ],
   "source": [
    "print(x_train.shape)"
   ]
  },
  {
   "cell_type": "code",
   "execution_count": 5,
   "id": "e6236649",
   "metadata": {},
   "outputs": [
    {
     "name": "stdout",
     "output_type": "stream",
     "text": [
      "True label: 4\n"
     ]
    },
    {
     "data": {
      "image/png": "[encoded data removed]",
      "text/plain": [
       "<Figure size 432x288 with 1 Axes>"
      ]
     },
     "metadata": {
      "needs_background": "light"
     },
     "output_type": "display_data"
    }
   ],
   "source": [
    "index = 9\n",
    "print('True label: {}'.format(y_train[index]) )\n",
    "plt.imshow(x_train[index], cmap='Greys')\n",
    "plt.show()"
   ]
  },
  {
   "cell_type": "code",
   "execution_count": 6,
   "id": "e0aa0aae",
   "metadata": {},
   "outputs": [
    {
     "name": "stdout",
     "output_type": "stream",
     "text": [
      "Final shape of input tensor (60000, 28, 28, 1)\n"
     ]
    }
   ],
   "source": [
    "#converting the dataset into the right shape\n",
    "\n",
    "x_train = x_train.reshape(x_train.shape[0], 28, 28, 1).astype('float32')\n",
    "x_test = x_test.reshape(x_test.shape[0], 28, 28, 1).astype('float32')\n",
    "\n",
    "print('Final shape of input tensor {}'.format(x_train.shape))"
   ]
  },
  {
   "cell_type": "code",
   "execution_count": 7,
   "id": "f70d38c4",
   "metadata": {},
   "outputs": [
    {
     "data": {
      "text/plain": [
       "(28, 28, 1)"
      ]
     },
     "execution_count": 7,
     "metadata": {},
     "output_type": "execute_result"
    }
   ],
   "source": [
    "#printing a shape of a single image in the dataset\n",
    "\n",
    "x_train[0].shape"
   ]
  },
  {
   "cell_type": "markdown",
   "id": "1ffe27f2",
   "metadata": {},
   "source": [
    "# BUILDING THE MODEL "
   ]
  },
  {
   "cell_type": "code",
   "execution_count": 8,
   "id": "63fc92b7",
   "metadata": {},
   "outputs": [],
   "source": [
    "model = tf.keras.Sequential([tf.keras.layers.Conv2D(filters=32, \n",
    "                                 kernel_size=(3,3), \n",
    "                                 strides=(1,1),\n",
    "                                 padding='valid',\n",
    "                                 activation='relu', \n",
    "                                 input_shape=(28,28,1)),\n",
    "        \n",
    "    \n",
    "           tf.keras.layers.MaxPooling2D(pool_size=(2, 2)),\n",
    "           tf.keras.layers.Conv2D(filters=64,  kernel_size=(3,3),  strides=(1,1), padding='valid', activation='relu'), \n",
    "           tf.keras.layers.MaxPooling2D(pool_size=(2, 2)),\n",
    "           tf.keras.layers.Flatten(),\n",
    "           tf.keras.layers.Dense(128,activation=tf.nn.relu),\n",
    "           tf.keras.layers.Dropout(0.5),\n",
    "           tf.keras.layers.Dense(10, activation=tf.nn.softmax),\n",
    "            ])"
   ]
  },
  {
   "cell_type": "code",
   "execution_count": 9,
   "id": "c6322d0f",
   "metadata": {},
   "outputs": [
    {
     "name": "stdout",
     "output_type": "stream",
     "text": [
      "Model: \"sequential\"\n",
      "_________________________________________________________________\n",
      " Layer (type)                Output Shape              Param #   \n",
      "=================================================================\n",
      " conv2d (Conv2D)             (None, 26, 26, 32)        320       \n",
      "                                                                 \n",
      " max_pooling2d (MaxPooling2D  (None, 13, 13, 32)       0         \n",
      " )                                                               \n",
      "                                                                 \n",
      " conv2d_1 (Conv2D)           (None, 11, 11, 64)        18496     \n",
      "                                                                 \n",
      " max_pooling2d_1 (MaxPooling  (None, 5, 5, 64)         0         \n",
      " 2D)                                                             \n",
      "                                                                 \n",
      " flatten (Flatten)           (None, 1600)              0         \n",
      "                                                                 \n",
      " dense (Dense)               (None, 128)               204928    \n",
      "                                                                 \n",
      " dropout (Dropout)           (None, 128)               0         \n",
      "                                                                 \n",
      " dense_1 (Dense)             (None, 10)                1290      \n",
      "                                                                 \n",
      "=================================================================\n",
      "Total params: 225,034\n",
      "Trainable params: 225,034\n",
      "Non-trainable params: 0\n",
      "_________________________________________________________________\n"
     ]
    }
   ],
   "source": [
    "model.summary()"
   ]
  },
  {
   "cell_type": "code",
   "execution_count": 10,
   "id": "f8248c2c",
   "metadata": {},
   "outputs": [],
   "source": [
    "#compile\n",
    "\n",
    "model.compile(\n",
    "    optimizer = tf.keras.optimizers.Adam(learning_rate=1e-3),\n",
    "    loss = tf.keras.losses.SparseCategoricalCrossentropy(from_logits=False),\n",
    "    metrics = [tf.keras.metrics.SparseCategoricalAccuracy()]\n",
    ")"
   ]
  },
  {
   "cell_type": "code",
   "execution_count": 11,
   "id": "65158304",
   "metadata": {},
   "outputs": [
    {
     "name": "stdout",
     "output_type": "stream",
     "text": [
      "Epoch 1/10\n",
      "1875/1875 [==============================] - 168s 86ms/step - loss: 0.2027 - sparse_categorical_accuracy: 0.9375 - val_loss: 0.0468 - val_sparse_categorical_accuracy: 0.9851\n",
      "Epoch 2/10\n",
      "1875/1875 [==============================] - 166s 88ms/step - loss: 0.0758 - sparse_categorical_accuracy: 0.9773 - val_loss: 0.0331 - val_sparse_categorical_accuracy: 0.9883\n",
      "Epoch 3/10\n",
      "1875/1875 [==============================] - 160s 85ms/step - loss: 0.0561 - sparse_categorical_accuracy: 0.9834 - val_loss: 0.0305 - val_sparse_categorical_accuracy: 0.9900\n",
      "Epoch 4/10\n",
      "1875/1875 [==============================] - 208s 111ms/step - loss: 0.0464 - sparse_categorical_accuracy: 0.9860 - val_loss: 0.0311 - val_sparse_categorical_accuracy: 0.9910\n",
      "Epoch 5/10\n",
      "1875/1875 [==============================] - 174s 93ms/step - loss: 0.0385 - sparse_categorical_accuracy: 0.9879 - val_loss: 0.0263 - val_sparse_categorical_accuracy: 0.9910\n",
      "Epoch 6/10\n",
      "1875/1875 [==============================] - 183s 97ms/step - loss: 0.0327 - sparse_categorical_accuracy: 0.9894 - val_loss: 0.0274 - val_sparse_categorical_accuracy: 0.9907\n",
      "Epoch 7/10\n",
      "1875/1875 [==============================] - 185s 98ms/step - loss: 0.0287 - sparse_categorical_accuracy: 0.9908 - val_loss: 0.0256 - val_sparse_categorical_accuracy: 0.9921\n",
      "Epoch 8/10\n",
      "1875/1875 [==============================] - 196s 105ms/step - loss: 0.0258 - sparse_categorical_accuracy: 0.9920 - val_loss: 0.0261 - val_sparse_categorical_accuracy: 0.9922\n",
      "Epoch 9/10\n",
      "1875/1875 [==============================] - 200s 107ms/step - loss: 0.0228 - sparse_categorical_accuracy: 0.9926 - val_loss: 0.0244 - val_sparse_categorical_accuracy: 0.9925\n",
      "Epoch 10/10\n",
      "1875/1875 [==============================] - 248s 132ms/step - loss: 0.0205 - sparse_categorical_accuracy: 0.9936 - val_loss: 0.0240 - val_sparse_categorical_accuracy: 0.9936\n"
     ]
    }
   ],
   "source": [
    "#Training the dataset\n",
    "\n",
    "History = model.fit(x_train,y_train,\n",
    "                    epochs=10,\n",
    "                    batch_size=32,\n",
    "                    validation_data=(x_test, y_test))"
   ]
  },
  {
   "cell_type": "code",
   "execution_count": 12,
   "id": "4cd45cc7",
   "metadata": {},
   "outputs": [
    {
     "data": {
      "text/plain": [
       "{'loss': [0.2027198076248169,\n",
       "  0.07584662735462189,\n",
       "  0.056110210716724396,\n",
       "  0.04642819985747337,\n",
       "  0.03849557414650917,\n",
       "  0.032654013484716415,\n",
       "  0.028679756447672844,\n",
       "  0.025788813829421997,\n",
       "  0.02282884530723095,\n",
       "  0.02053752914071083],\n",
       " 'sparse_categorical_accuracy': [0.9374666810035706,\n",
       "  0.977316677570343,\n",
       "  0.9834499955177307,\n",
       "  0.985966682434082,\n",
       "  0.9879166483879089,\n",
       "  0.9893666505813599,\n",
       "  0.9908333420753479,\n",
       "  0.9920333623886108,\n",
       "  0.9925833344459534,\n",
       "  0.9936166405677795],\n",
       " 'val_loss': [0.04675044119358063,\n",
       "  0.033051423728466034,\n",
       "  0.03052826225757599,\n",
       "  0.03108828514814377,\n",
       "  0.026266632601618767,\n",
       "  0.027432888746261597,\n",
       "  0.02562890388071537,\n",
       "  0.026061123237013817,\n",
       "  0.02444096840918064,\n",
       "  0.023951897397637367],\n",
       " 'val_sparse_categorical_accuracy': [0.9850999712944031,\n",
       "  0.9883000254631042,\n",
       "  0.9900000095367432,\n",
       "  0.9909999966621399,\n",
       "  0.9909999966621399,\n",
       "  0.9907000064849854,\n",
       "  0.9921000003814697,\n",
       "  0.9922000169754028,\n",
       "  0.9925000071525574,\n",
       "  0.9936000108718872]}"
      ]
     },
     "execution_count": 12,
     "metadata": {},
     "output_type": "execute_result"
    }
   ],
   "source": [
    "History.history"
   ]
  },
  {
   "cell_type": "code",
   "execution_count": 13,
   "id": "3d3751ae",
   "metadata": {},
   "outputs": [
    {
     "data": {
      "image/png": "[encoded data removed]",
      "text/plain": [
       "<Figure size 432x288 with 2 Axes>"
      ]
     },
     "metadata": {
      "needs_background": "light"
     },
     "output_type": "display_data"
    }
   ],
   "source": [
    "#Evaluate\n",
    "\n",
    "history_dict = History.history\n",
    "history_dict.keys()\n",
    "loss_values = history_dict['loss']\n",
    "acc_values = history_dict['sparse_categorical_accuracy']\n",
    "epochs = range(1, len(loss_values) + 1)\n",
    "\n",
    "fig, axes = plt.subplots(2, sharex=True)\n",
    "axes[0].set_ylabel(\"Loss\", fontsize=14)\n",
    "axes[0].plot(loss_values)\n",
    "axes[0].plot(history_dict['val_loss'])\n",
    "axes[1].set_ylabel(\"Accuracy\", fontsize=14)\n",
    "axes[1].set_xlabel(\"Epoch\", fontsize=14)\n",
    "axes[1].plot(acc_values)\n",
    "axes[1].plot(history_dict['val_sparse_categorical_accuracy'])\n",
    "plt.show()"
   ]
  },
  {
   "cell_type": "code",
   "execution_count": 14,
   "id": "15ab57b4",
   "metadata": {},
   "outputs": [
    {
     "name": "stdout",
     "output_type": "stream",
     "text": [
      "313/313 [==============================] - 14s 40ms/step\n",
      "9\n"
     ]
    }
   ],
   "source": [
    "predictions = model.predict(x_test)\n",
    "y_hat = np.argmax(predictions[7])\n",
    "print(y_hat)"
   ]
  },
  {
   "cell_type": "code",
   "execution_count": null,
   "id": "5f8dfa7e",
   "metadata": {},
   "outputs": [],
   "source": []
  }
 ],
 "metadata": {
  "kernelspec": {
   "display_name": "Python 3 (ipykernel)",
   "language": "python",
   "name": "python3"
  },
  "language_info": {
   "codemirror_mode": {
    "name": "ipython",
    "version": 3
   },
   "file_extension": ".py",
   "mimetype": "text/x-python",
   "name": "python",
   "nbconvert_exporter": "python",
   "pygments_lexer": "ipython3",
   "version": "3.9.12"
  }
 },
 "nbformat": 4,
 "nbformat_minor": 5
}
